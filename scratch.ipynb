{
 "cells": [
  {
   "cell_type": "code",
   "execution_count": 4,
   "metadata": {},
   "outputs": [],
   "source": [
    "import random\n",
    "import importlib\n",
    "import linedata\n",
    "import math\n",
    "import json\n",
    "from pprint import pprint\n",
    "from flask import Flask, jsonify, render_template\n",
    "import numpy as np"
   ]
  },
  {
   "cell_type": "code",
   "execution_count": null,
   "metadata": {},
   "outputs": [],
   "source": [
    "random.uniform(0.001,0.00005)"
   ]
  },
  {
   "cell_type": "code",
   "execution_count": 11,
   "metadata": {},
   "outputs": [
    {
     "name": "stdout",
     "output_type": "stream",
     "text": [
      "Hello\n"
     ]
    },
    {
     "data": {
      "text/plain": [
       "<module 'linedata' from 'H:\\\\work\\\\ne-vis\\\\ngram_viewer\\\\linedata.py'>"
      ]
     },
     "execution_count": 11,
     "metadata": {},
     "output_type": "execute_result"
    }
   ],
   "source": [
    "importlib.reload(linedata)"
   ]
  },
  {
   "cell_type": "code",
   "execution_count": 12,
   "metadata": {},
   "outputs": [],
   "source": [
    "dataa =linedata.get_line_data()"
   ]
  },
  {
   "cell_type": "code",
   "execution_count": 13,
   "metadata": {},
   "outputs": [
    {
     "data": {
      "text/plain": [
       "'[{\"x\": 2000, \"y\": 0.000651539727484825}, {\"x\": 2001, \"y\": 0.0007947315257335714}, {\"x\": 2002, \"y\": 0.00041610914307846185}, {\"x\": 2003, \"y\": 0.0005982639231514915}, {\"x\": 2004, \"y\": 0.0009380150633973344}, {\"x\": 2005, \"y\": 6.668552000687461e-05}, {\"x\": 2006, \"y\": 0.00028897273550333095}, {\"x\": 2007, \"y\": 0.00020157040582687686}, {\"x\": 2008, \"y\": 0.0004638522105437404}, {\"x\": 2009, \"y\": 0.0005899699263042249}, {\"x\": 2010, \"y\": 0.0008461606756913171}, {\"x\": 2011, \"y\": 0.0002900794783203656}, {\"x\": 2012, \"y\": 0.0007293413728633701}, {\"x\": 2013, \"y\": 0.0005983572261510732}, {\"x\": 2014, \"y\": 0.0009985841820808314}, {\"x\": 2015, \"y\": 0.0005599197243829236}, {\"x\": 2016, \"y\": 0.0009753193832199249}, {\"x\": 2017, \"y\": 9.869969209383932e-05}, {\"x\": 2018, \"y\": 0.0009585517984098777}]'"
      ]
     },
     "execution_count": 13,
     "metadata": {},
     "output_type": "execute_result"
    }
   ],
   "source": [
    "json.dumps(linedata.get_line_data(),default =lambda x: x._asdict())"
   ]
  },
  {
   "cell_type": "code",
   "execution_count": null,
   "metadata": {},
   "outputs": [],
   "source": [
    "linedata.get_line_data()"
   ]
  },
  {
   "cell_type": "code",
   "execution_count": null,
   "metadata": {},
   "outputs": [],
   "source": [
    "pprint(vars(linedata.Point))"
   ]
  },
  {
   "cell_type": "code",
   "execution_count": null,
   "metadata": {},
   "outputs": [],
   "source": [
    "pprint(vars(linedata.test))"
   ]
  },
  {
   "cell_type": "code",
   "execution_count": null,
   "metadata": {},
   "outputs": [],
   "source": [
    "linedata.test.__dict__"
   ]
  },
  {
   "cell_type": "code",
   "execution_count": null,
   "metadata": {},
   "outputs": [],
   "source": [
    "inst = linedata.test()"
   ]
  },
  {
   "cell_type": "code",
   "execution_count": null,
   "metadata": {},
   "outputs": [],
   "source": [
    "json.dumps(inst)"
   ]
  },
  {
   "cell_type": "code",
   "execution_count": 414,
   "metadata": {},
   "outputs": [
    {
     "name": "stdout",
     "output_type": "stream",
     "text": [
      "Hello\n"
     ]
    },
    {
     "data": {
      "text/plain": [
       "<module 'linedata' from 'H:\\\\work\\\\ne-vis\\\\ngram_viewer\\\\linedata.py'>"
      ]
     },
     "execution_count": 414,
     "metadata": {},
     "output_type": "execute_result"
    }
   ],
   "source": [
    "importlib.reload(linedata)"
   ]
  },
  {
   "cell_type": "code",
   "execution_count": 415,
   "metadata": {},
   "outputs": [
    {
     "name": "stdout",
     "output_type": "stream",
     "text": [
      "Hello\n",
      "9e+99\n"
     ]
    }
   ],
   "source": [
    "importlib.reload(linedata)\n",
    "data = linedata.LineDataset()\n",
    "print(data.xmin)"
   ]
  },
  {
   "cell_type": "code",
   "execution_count": 416,
   "metadata": {},
   "outputs": [],
   "source": [
    "data.addLine( linedata.get_line_data() )"
   ]
  },
  {
   "cell_type": "code",
   "execution_count": 417,
   "metadata": {},
   "outputs": [
    {
     "name": "stdout",
     "output_type": "stream",
     "text": [
      "{'lines': [[{'x': 2000, 'y': 0.0004501246456160032},\n",
      "            {'x': 2001, 'y': 0.0007094796247132966},\n",
      "            {'x': 2002, 'y': 0.0007550482425705163},\n",
      "            {'x': 2003, 'y': 0.00032463170802522463},\n",
      "            {'x': 2004, 'y': 0.0006695474372903755},\n",
      "            {'x': 2005, 'y': 6.350390122040344e-05},\n",
      "            {'x': 2006, 'y': 0.000455118321473584},\n",
      "            {'x': 2007, 'y': 0.0003796299841759369},\n",
      "            {'x': 2008, 'y': 0.0007043149614747943},\n",
      "            {'x': 2009, 'y': 0.0006718875050200275},\n",
      "            {'x': 2010, 'y': 0.0007326071075116632},\n",
      "            {'x': 2011, 'y': 0.00046112919072475593},\n",
      "            {'x': 2012, 'y': 0.00018845859077474864},\n",
      "            {'x': 2013, 'y': 0.0007503474448340783},\n",
      "            {'x': 2014, 'y': 0.00025363071701907304},\n",
      "            {'x': 2015, 'y': 0.0005495179588505602},\n",
      "            {'x': 2016, 'y': 0.0004092927449278284},\n",
      "            {'x': 2017, 'y': 0.0007898374181437153},\n",
      "            {'x': 2018, 'y': 0.00011838311893287419},\n",
      "            {'x': 2019, 'y': 0.0006697388717186618}]],\n",
      " 'xdomain': (1999, 2019),\n",
      " 'xmax': 2019,\n",
      " 'xmin': 2000,\n",
      " 'ydomain': (0, 0.0008),\n",
      " 'ymax': 0.0007898374181437153,\n",
      " 'ymin': 6.350390122040344e-05}\n"
     ]
    }
   ],
   "source": [
    "pprint(vars(data))"
   ]
  },
  {
   "cell_type": "code",
   "execution_count": 394,
   "metadata": {},
   "outputs": [
    {
     "data": {
      "text/plain": [
       "((0, 0.0008), (1999, 2019))"
      ]
     },
     "execution_count": 394,
     "metadata": {},
     "output_type": "execute_result"
    }
   ],
   "source": [
    "data.niceDomains()"
   ]
  },
  {
   "cell_type": "code",
   "execution_count": 461,
   "metadata": {},
   "outputs": [
    {
     "name": "stdout",
     "output_type": "stream",
     "text": [
      "('ydomain', (0, 0.0008))\n",
      "('xdomain', (1999, 2019))\n",
      "('lines', [[{'x': 2000, 'y': 0.0004501246456160032}, {'x': 2001, 'y': 0.0007094796247132966}, {'x': 2002, 'y': 0.0007550482425705163}, {'x': 2003, 'y': 0.00032463170802522463}, {'x': 2004, 'y': 0.0006695474372903755}, {'x': 2005, 'y': 6.350390122040344e-05}, {'x': 2006, 'y': 0.000455118321473584}, {'x': 2007, 'y': 0.0003796299841759369}, {'x': 2008, 'y': 0.0007043149614747943}, {'x': 2009, 'y': 0.0006718875050200275}, {'x': 2010, 'y': 0.0007326071075116632}, {'x': 2011, 'y': 0.00046112919072475593}, {'x': 2012, 'y': 0.00018845859077474864}, {'x': 2013, 'y': 0.0007503474448340783}, {'x': 2014, 'y': 0.00025363071701907304}, {'x': 2015, 'y': 0.0005495179588505602}, {'x': 2016, 'y': 0.0004092927449278284}, {'x': 2017, 'y': 0.0007898374181437153}, {'x': 2018, 'y': 0.00011838311893287419}, {'x': 2019, 'y': 0.0006697388717186618}]])\n"
     ]
    }
   ],
   "source": [
    "for item in data.serialize().items():\n",
    "    print(item)\n",
    "    \n",
    "# print(json.dumps(data.serialize()))"
   ]
  },
  {
   "cell_type": "code",
   "execution_count": 298,
   "metadata": {},
   "outputs": [
    {
     "name": "stdout",
     "output_type": "stream",
     "text": [
      "0.0001 -4.0\n",
      "0.0002 -3.6989700043360187\n",
      "0.0003 -3.5228787452803374\n",
      "0.0004 -3.3979400086720375\n",
      "0.0005 -3.3010299956639813\n",
      "0.0006 -3.2218487496163566\n",
      "0.0007 -3.154901959985743\n",
      "0.0008 -3.0969100130080562\n",
      "0.0009 -3.0457574905606752\n",
      "0.001 -3.0\n"
     ]
    }
   ],
   "source": [
    "for i in range(1,11):\n",
    "    print(i/10000,math.log10(i/10000))"
   ]
  },
  {
   "cell_type": "code",
   "execution_count": 449,
   "metadata": {},
   "outputs": [],
   "source": [
    "val = 0.00099543930010392514\n",
    "# val = 0.0001643328624\n",
    "# val = 0.0007813084110293293\n",
    "# val = 0.0007688930598875592\n",
    "# val = 0.0007377081837851507\n",
    "# val = 0.0007980394427854783\n",
    "val = 0.001252\n",
    "val= 0.74373"
   ]
  },
  {
   "cell_type": "code",
   "execution_count": 450,
   "metadata": {},
   "outputs": [
    {
     "name": "stdout",
     "output_type": "stream",
     "text": [
      "2\n"
     ]
    }
   ],
   "source": [
    "valex = math.ceil(-1*(math.log10(val))) + 1\n",
    "print(valex)"
   ]
  },
  {
   "cell_type": "code",
   "execution_count": 451,
   "metadata": {},
   "outputs": [
    {
     "name": "stdout",
     "output_type": "stream",
     "text": [
      "74.373\n"
     ]
    }
   ],
   "source": [
    "valnorm = val * math.pow(10,valex)\n",
    "print(valnorm)"
   ]
  },
  {
   "cell_type": "code",
   "execution_count": 452,
   "metadata": {},
   "outputs": [
    {
     "name": "stdout",
     "output_type": "stream",
     "text": [
      "80 0 82\n"
     ]
    }
   ],
   "source": [
    "valround = math.ceil(valnorm)+5\n",
    "print(valround,valround%5,valround+2)"
   ]
  },
  {
   "cell_type": "code",
   "execution_count": 453,
   "metadata": {},
   "outputs": [
    {
     "name": "stdout",
     "output_type": "stream",
     "text": [
      "0.8\n"
     ]
    }
   ],
   "source": [
    "tmp = 5-valround%5 if valround%5>0 else 0\n",
    "newval = (valround + tmp) / math.pow(10,valex)\n",
    "print(newval)"
   ]
  },
  {
   "cell_type": "code",
   "execution_count": 454,
   "metadata": {},
   "outputs": [
    {
     "data": {
      "text/plain": [
       "4"
      ]
     },
     "execution_count": 454,
     "metadata": {},
     "output_type": "execute_result"
    }
   ],
   "source": [
    "valround = 11\n",
    "\n",
    "5-valround%5 if valround%5>0 else 0"
   ]
  },
  {
   "cell_type": "code",
   "execution_count": 408,
   "metadata": {},
   "outputs": [
    {
     "data": {
      "text/plain": [
       "True"
      ]
     },
     "execution_count": 408,
     "metadata": {},
     "output_type": "execute_result"
    }
   ],
   "source": [
    "set(['can','chem']) == set(['chem','can'])"
   ]
  },
  {
   "cell_type": "code",
   "execution_count": 457,
   "metadata": {},
   "outputs": [
    {
     "name": "stdout",
     "output_type": "stream",
     "text": [
      "can\n",
      "chem\n",
      "eng\n",
      "usa\n"
     ]
    }
   ],
   "source": [
    "test = ['can','usa','eng','chem'] #set({'usa','eng','can','chem'})\n",
    "\n",
    "for i in sorted(test):\n",
    "    print(i)"
   ]
  },
  {
   "cell_type": "code",
   "execution_count": 458,
   "metadata": {},
   "outputs": [
    {
     "data": {
      "text/plain": [
       "list"
      ]
     },
     "execution_count": 458,
     "metadata": {},
     "output_type": "execute_result"
    }
   ],
   "source": [
    "type(sorted(test))"
   ]
  },
  {
   "cell_type": "code",
   "execution_count": 25,
   "metadata": {},
   "outputs": [
    {
     "name": "stdout",
     "output_type": "stream",
     "text": [
      "True\n"
     ]
    }
   ],
   "source": [
    "mu, sigma = 0, 0.001 # mean and standard deviation\n",
    "s = np.random.normal(mu, sigma, 40)\n",
    "# Verify the mean and the variance:\n",
    "\n",
    "print(abs(mu - np.mean(s)) < 0.01)"
   ]
  },
  {
   "cell_type": "code",
   "execution_count": 28,
   "metadata": {},
   "outputs": [
    {
     "name": "stdout",
     "output_type": "stream",
     "text": [
      "True\n"
     ]
    },
    {
     "data": {
      "image/png": "[encoded data removed]",
      "text/plain": [
       "<Figure size 432x288 with 1 Axes>"
      ]
     },
     "metadata": {
      "needs_background": "light"
     },
     "output_type": "display_data"
    }
   ],
   "source": [
    "print(abs(sigma - np.std(s, ddof=1)) < 0.01)\n",
    "\n",
    "# Display the histogram of the samples, along with the probability density function:\n",
    "\n",
    "import matplotlib.pyplot as plt\n",
    "count, bins, ignored = plt.hist(s, 30, density=True)\n",
    "plt.plot(bins, 1/(sigma * np.sqrt(2 * np.pi)) *\n",
    "                np.exp( - (bins - mu)**2 / (2 * sigma**2) ),\n",
    "          linewidth=2, color='r')\n",
    "plt.show()"
   ]
  },
  {
   "cell_type": "code",
   "execution_count": 29,
   "metadata": {},
   "outputs": [
    {
     "data": {
      "text/plain": [
       "array([-3.06720556e-03, -2.90007271e-03, -2.73293987e-03, -2.56580703e-03,\n",
       "       -2.39867419e-03, -2.23154135e-03, -2.06440850e-03, -1.89727566e-03,\n",
       "       -1.73014282e-03, -1.56300998e-03, -1.39587713e-03, -1.22874429e-03,\n",
       "       -1.06161145e-03, -8.94478606e-04, -7.27345764e-04, -5.60212921e-04,\n",
       "       -3.93080079e-04, -2.25947237e-04, -5.88143942e-05,  1.08318448e-04,\n",
       "        2.75451291e-04,  4.42584133e-04,  6.09716975e-04,  7.76849818e-04,\n",
       "        9.43982660e-04,  1.11111550e-03,  1.27824834e-03,  1.44538119e-03,\n",
       "        1.61251403e-03,  1.77964687e-03,  1.94677971e-03])"
      ]
     },
     "execution_count": 29,
     "metadata": {},
     "output_type": "execute_result"
    }
   ],
   "source": [
    "bins"
   ]
  },
  {
   "cell_type": "code",
   "execution_count": 30,
   "metadata": {},
   "outputs": [
    {
     "data": {
      "text/plain": [
       "array([ 1.22119088e-03, -4.74134171e-04,  6.16173105e-04,  1.39697221e-03,\n",
       "       -3.06720556e-03, -8.60970708e-04,  3.54102828e-04, -3.10861807e-04,\n",
       "       -2.37398121e-03,  1.16552099e-03, -3.02444815e-04,  1.17987158e-03,\n",
       "       -1.05143412e-03, -2.05809533e-04, -8.41513935e-04,  1.00042006e-04,\n",
       "        9.90996973e-05,  6.52862228e-04, -1.87079396e-05,  6.49849228e-05,\n",
       "       -9.23921109e-04, -4.08381786e-04,  1.34413708e-04, -1.83696686e-04,\n",
       "        1.72765098e-03, -6.08738222e-04, -6.16657559e-04, -4.42322101e-04,\n",
       "       -4.84287193e-04,  4.71509913e-04,  1.94677971e-03, -6.44025499e-04,\n",
       "        4.00226281e-04,  1.98935231e-04,  1.38478973e-04,  1.12753433e-03,\n",
       "        7.31111596e-04,  3.07170028e-06, -2.46146121e-04, -6.50335928e-04])"
      ]
     },
     "execution_count": 30,
     "metadata": {},
     "output_type": "execute_result"
    }
   ],
   "source": [
    "s"
   ]
  },
  {
   "cell_type": "code",
   "execution_count": 56,
   "metadata": {},
   "outputs": [],
   "source": [
    "mu = 0.005\n",
    "sigma = 0.005\n",
    "idx = 0.5"
   ]
  },
  {
   "cell_type": "code",
   "execution_count": null,
   "metadata": {},
   "outputs": [],
   "source": []
  },
  {
   "cell_type": "code",
   "execution_count": 91,
   "metadata": {},
   "outputs": [],
   "source": [
    "import math\n",
    "def normpdf(x, mean, sd):\n",
    "    var = float(sd)**2\n",
    "    denom = (2*math.pi*var)**.5\n",
    "    num = math.exp(-(float(x)-float(mean))**2/(2*var))\n",
    "    return num/denom"
   ]
  },
  {
   "cell_type": "code",
   "execution_count": 92,
   "metadata": {},
   "outputs": [
    {
     "name": "stdout",
     "output_type": "stream",
     "text": [
      "0.01253317975987585\n"
     ]
    }
   ],
   "source": [
    "variance = float(sigma)**2\n",
    "numerator = ( np.sqrt( 2 * np.pi * variance ) )\n",
    "denom = np.exp( - (( idx - mu )**2) / 2*variance )\n",
    "result = numerator/denom\n",
    "print(result)"
   ]
  },
  {
   "cell_type": "code",
   "execution_count": 112,
   "metadata": {},
   "outputs": [
    {
     "data": {
      "text/plain": [
       "0.0"
      ]
     },
     "execution_count": 112,
     "metadata": {},
     "output_type": "execute_result"
    }
   ],
   "source": [
    "normpdf(500,5,0.01)"
   ]
  },
  {
   "cell_type": "code",
   "execution_count": 111,
   "metadata": {},
   "outputs": [
    {
     "data": {
      "image/png": "[encoded data removed]",
      "text/plain": [
       "<Figure size 432x288 with 1 Axes>"
      ]
     },
     "metadata": {
      "needs_background": "light"
     },
     "output_type": "display_data"
    }
   ],
   "source": [
    "import math\n",
    "def normpdf(x, mean, sd):\n",
    "    var = np.float(sd)**2\n",
    "    denom = (2*np.pi*var)**.5\n",
    "    num = np.exp(-(x-np.float(mean))**2/(2*var))\n",
    "    return num/denom\n",
    "\n",
    "x = np.arange(0,50,dtype=np.float)\n",
    "p = normpdf(x,40,10)\n",
    "\n",
    "plt.plot(x, p)\n",
    "plt.show()"
   ]
  },
  {
   "cell_type": "code",
   "execution_count": 118,
   "metadata": {},
   "outputs": [],
   "source": [
    "mapp = plt.get_cmap(\"tab10\")"
   ]
  },
  {
   "cell_type": "code",
   "execution_count": 121,
   "metadata": {},
   "outputs": [
    {
     "name": "stdout",
     "output_type": "stream",
     "text": [
      "{'N': 10,\n",
      " '_i_bad': 12,\n",
      " '_i_over': 11,\n",
      " '_i_under': 10,\n",
      " '_isinit': False,\n",
      " '_rgba_bad': (0.0, 0.0, 0.0, 0.0),\n",
      " '_rgba_over': None,\n",
      " '_rgba_under': None,\n",
      " 'colorbar_extend': False,\n",
      " 'colors': ((0.12156862745098039, 0.4666666666666667, 0.7058823529411765),\n",
      "            (1.0, 0.4980392156862745, 0.054901960784313725),\n",
      "            (0.17254901960784313, 0.6274509803921569, 0.17254901960784313),\n",
      "            (0.8392156862745098, 0.15294117647058825, 0.1568627450980392),\n",
      "            (0.5803921568627451, 0.403921568627451, 0.7411764705882353),\n",
      "            (0.5490196078431373, 0.33725490196078434, 0.29411764705882354),\n",
      "            (0.8901960784313725, 0.4666666666666667, 0.7607843137254902),\n",
      "            (0.4980392156862745, 0.4980392156862745, 0.4980392156862745),\n",
      "            (0.7372549019607844, 0.7411764705882353, 0.13333333333333333),\n",
      "            (0.09019607843137255, 0.7450980392156863, 0.8117647058823529)),\n",
      " 'monochrome': False,\n",
      " 'name': 'tab10'}\n"
     ]
    }
   ],
   "source": [
    "pprint(vars(mapp))"
   ]
  },
  {
   "cell_type": "code",
   "execution_count": 124,
   "metadata": {},
   "outputs": [
    {
     "data": {
      "text/plain": [
       "(0.8392156862745098, 0.15294117647058825, 0.1568627450980392, 1.0)"
      ]
     },
     "execution_count": 124,
     "metadata": {},
     "output_type": "execute_result"
    }
   ],
   "source": [
    "mapp(3)"
   ]
  },
  {
   "cell_type": "code",
   "execution_count": null,
   "metadata": {},
   "outputs": [],
   "source": []
  }
 ],
 "metadata": {
  "kernelspec": {
   "display_name": "Python 3",
   "language": "python",
   "name": "python3"
  },
  "language_info": {
   "codemirror_mode": {
    "name": "ipython",
    "version": 3
   },
   "file_extension": ".py",
   "mimetype": "text/x-python",
   "name": "python",
   "nbconvert_exporter": "python",
   "pygments_lexer": "ipython3",
   "version": "3.7.3"
  }
 },
 "nbformat": 4,
 "nbformat_minor": 2
}
